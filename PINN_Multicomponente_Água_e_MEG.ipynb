{
  "nbformat": 4,
  "nbformat_minor": 0,
  "metadata": {
    "colab": {
      "provenance": [],
      "authorship_tag": "ABX9TyM/g3j3QbkOgtVwMDdpnkQM",
      "include_colab_link": true
    },
    "kernelspec": {
      "name": "python3",
      "display_name": "Python 3"
    },
    "language_info": {
      "name": "python"
    }
  },
  "cells": [
    {
      "cell_type": "markdown",
      "metadata": {
        "id": "view-in-github",
        "colab_type": "text"
      },
      "source": [
        "<a href=\"https://colab.research.google.com/github/JoaoAlexandreFerreira/PINNs/blob/main/PINN_Multicomponente_%C3%81gua_e_MEG.ipynb\" target=\"_parent\"><img src=\"https://colab.research.google.com/assets/colab-badge.svg\" alt=\"Open In Colab\"/></a>"
      ]
    },
    {
      "cell_type": "code",
      "source": [
        "import torch\n",
        "import torch.nn as nn\n",
        "import numpy as np\n",
        "import matplotlib.pyplot as plt\n",
        "from torch.autograd import grad\n",
        "#Dominio\n",
        "x_min, x_max = 0.0, 10.0\n",
        "y_min, y_max = 0.0, 0.12\n",
        "t_min, t_max = 0.0, 20.0\n",
        "v_oil_inlet = 2.21  #escoamento de água\n",
        "v_meg_inj = 5e-3 #injeção de meg\n",
        "inj_x, inj_y = 2.0, 0.0 #pontos de injeção\n",
        "mu_oil = 0.1 #viscosidade o´leo e meg\n",
        "mu_meg = 0.001\n",
        "rho_oil = 900 #densidade óleo e meg\n",
        "rho_meg = 1100"
      ],
      "metadata": {
        "id": "93pp9SMRDMg8"
      },
      "execution_count": 1,
      "outputs": []
    },
    {
      "cell_type": "code",
      "source": [
        "class PINN(nn.Module):\n",
        "  def __init__(self, camadas_ocultas=6, nos_ocultos=48):\n",
        "    super().__init__()\n",
        "    #Aqui é uma rede para Navier Stokes, como disse o professor Jonathan, é preferível separar as redes\n",
        "    self.uvp_net = nn.Sequential(nn.Linear(3, nos_ocultos), nn.Tanh(), #entrada\n",
        "          *[nn.Linear(nos_ocultos, nos_ocultos), nn.Tanh()] * (camadas_ocultas), #intermediaria\n",
        "          nn.Linear(nos_ocultos, 3)) #saída\n",
        "\n",
        "    #Aqui para transporte de espécies\n",
        "    self.phase_net = nn.Sequential(nn.Linear(3, nos_ocultos),nn.Tanh(),\n",
        "          *[nn.Linear(nos_ocultos, nos_ocultos), nn.Tanh()] * (camadas_ocultas),\n",
        "          nn.Linear(nos_ocultos, 1), nn.Sigmoid()) #a sigmoide é para forçar o valor entre 0 e 1, sendo 0 água e 1 o meg\n",
        "\n",
        "  def forward(self, x, y, t):\n",
        "    uvp = self.uvp_net(torch.cat([x, y, t], dim=1))\n",
        "    u, v, p = uvp[:, 0:1], uvp[:, 1:2], uvp[:, 2:3]\n",
        "    C = self.phase_net(torch.cat([x, y, t], dim=1))\n",
        "    return u, v, p, C"
      ],
      "metadata": {
        "id": "xZ8lhuIbJyV0"
      },
      "execution_count": 2,
      "outputs": []
    },
    {
      "cell_type": "code",
      "source": [
        "def EDP(modelo, x, y, t):\n",
        "  x.requires_grad_(True)\n",
        "  y.requires_grad_(True)\n",
        "  t.requires_grad_(True)\n",
        "\n",
        "  u, v, p, C = modelo(x, y, t)\n",
        "  du_dx = grad(u, x, torch.ones_like(u), create_graph=True)[0]\n",
        "  du_dy = grad(u, y, torch.ones_like(u), create_graph=True)[0]\n",
        "\n",
        "  dv_dy = grad(v, y, torch.ones_like(v), create_graph=True)[0]\n",
        "  dv_dx = grad(v, x, torch.ones_like(u), create_graph=True)[0]\n",
        "  continuity = du_dx + dv_dy #equação da continuidade\n",
        "\n",
        "  rho = C * rho_oil + (1 - C) * rho_meg #aqui é assumindo mistura para densidade\n",
        "  mu = C * mu_oil + (1 - C) * mu_meg #viscosidade\n",
        "\n",
        "  du_dt = grad(u, t, torch.ones_like(u), create_graph=True)[0]\n",
        "  dv_dt = grad(v, t, torch.ones_like(v), create_graph=True)[0]\n",
        "\n",
        "  dp_dx = grad(p, x, torch.ones_like(p), create_graph=True)[0]\n",
        "  dp_dy = grad(p, y, torch.ones_like(p), create_graph=True)[0]\n",
        "\n",
        "  d2u_dx2 = grad(du_dx, x, torch.ones_like(du_dx), create_graph=True)[0]\n",
        "  d2u_dy2 = grad(du_dy, y, torch.ones_like(du_dy), create_graph=True)[0]\n",
        "\n",
        "  d2v_dx2 = grad(dv_dx, x, torch.ones_like(dv_dx), create_graph=True)[0]\n",
        "  d2v_dy2 = grad(dv_dy, y, torch.ones_like(dv_dy), create_graph=True)[0]\n",
        "\n",
        "  momentum_x = rho * (du_dt + u * du_dx + v * du_dy) + dp_dx - mu * (d2u_dx2 + d2u_dy2) #equação de momento\n",
        "  momentum_y = rho * (dv_dt + u * dv_dx + v * dv_dy) + dp_dy - mu * (d2v_dx2 + d2v_dy2)\n",
        "\n",
        "  dC_dt = grad(C, t, torch.ones_like(C), create_graph=True)[0]\n",
        "  dC_dx = grad(C, x, torch.ones_like(C), create_graph=True)[0]\n",
        "  dC_dy = grad(C, y, torch.ones_like(C), create_graph=True)[0]\n",
        "  transport = dC_dt + u * dC_dx + v * dC_dy #equação de transporte de espécies\n",
        "\n",
        "  # =======================================================\n",
        "  # NOVO: Termo para FORMAR O PADRÃO ANULAR -> Aqui eu pedi ajuda do chatgpt para ver se saia algo no estilo anular, não mudou muito não\n",
        "  # =======================================================\n",
        "  # 1. Força o MEG (C=0) a se mover para as bordas (y → 0 ou y → 0.12)\n",
        "  #    Usamos um potencial repulsivo em relação ao centro (y=0.06)\n",
        "  center_y = 0.06\n",
        "  force_annulus = torch.mean((1 - C) * (y - center_y)**2)  # Minimiza quando MEG está longe do centro\n",
        "\n",
        "  # 2. Força o óleo (C=1) a ficar centralizado\n",
        "  force_core = torch.mean(C * (y - center_y)**2)  # Minimiza quando óleo está perto do centro\n",
        "\n",
        "  # 3. Termo de curvatura (evita mistura)\n",
        "  d2C_dx2 = grad(dC_dx, x, torch.ones_like(dC_dx), create_graph=True)[0]\n",
        "  d2C_dy2 = grad(dC_dy, y, torch.ones_like(dC_dy), create_graph=True)[0]\n",
        "  curvature = d2C_dx2 + d2C_dy2  # Laplaciano da fase (suaviza a interface)\n",
        "\n",
        "  # =======================================================\n",
        "  # Perda total (agora com os novos termos)\n",
        "  # =======================================================\n",
        "  loss = (torch.mean(continuity**2) + #continuidade\n",
        "          torch.mean(momentum_x**2) + #momento em x\n",
        "          torch.mean(momentum_y**2) + #momento em y\n",
        "          torch.mean(transport**2) + #transporte de espécies\n",
        "          0.1 * force_annulus +               # MEG → bordas (peso menor)\n",
        "          0.5 * force_core +                  # Óleo → centro (peso maior)\n",
        "          0.01 * torch.mean(curvature**2))     # Suavização da interface\n",
        "\n",
        "  return loss"
      ],
      "metadata": {
        "id": "pR21m0oIJzA-"
      },
      "execution_count": 3,
      "outputs": []
    },
    {
      "cell_type": "code",
      "source": [
        "def contornos(modelo):\n",
        "  t_init = torch.zeros((1000, 1))\n",
        "  x_init = torch.rand((1000, 1)) * 10\n",
        "  y_init = torch.rand((1000, 1)) * 0.12\n",
        "  _, _, _, C_init = modelo(x_init, y_init, t_init)\n",
        "  loss_init = torch.mean((C_init - 0.0)**2) #condição inicial, duto cheio de água\n",
        "\n",
        "  x_inlet = torch.zeros((500, 1)) #entrada de água do duto\n",
        "  y_inlet = torch.rand((500, 1)) * 0.12\n",
        "  t_inlet = torch.rand((500, 1)) * 10\n",
        "  u_inlet, v_inlet, _, C_inlet = modelo(x_inlet, y_inlet, t_inlet)\n",
        "  loss_inlet = (torch.mean((C_inlet - 0.0)**2) + torch.mean((u_inlet - 2.21)**2) + torch.mean(v_inlet**2))\n",
        "\n",
        "  x_inj = torch.full((200, 1), 2.0) #pontos de injeção de meg\n",
        "  y_inj = torch.cat([torch.zeros((100, 1)),torch.ones((100, 1)) * 0.12])\n",
        "  t_inj = torch.rand((200, 1)) * 10\n",
        "  u_inj, v_inj, _, C_inj = modelo(x_inj, y_inj, t_inj)\n",
        "  loss_inj = (torch.mean((C_inj - 1.0)**2) +  # MEG puro\n",
        "              torch.mean(v_inj**2) +\n",
        "              torch.mean((u_inj - 1.0)**2))  # Velocidade vertical\n",
        "\n",
        "  return loss_init + loss_inlet + loss_inj"
      ],
      "metadata": {
        "id": "i97Je8lKKQN_"
      },
      "execution_count": 4,
      "outputs": []
    },
    {
      "cell_type": "code",
      "source": [
        "def treino(iter=2000):\n",
        "  modelo = PINN().to(device)\n",
        "  otimizador = torch.optim.Adam(modelo.parameters(), lr=1e-3)\n",
        "\n",
        "  for itr in range(iter):\n",
        "    x = torch.rand((1000, 1), device=device) * 10\n",
        "    y = torch.rand((1000, 1), device=device) * 0.12\n",
        "    t = torch.rand((1000, 1), device=device) * 10\n",
        "\n",
        "    otimizador.zero_grad()\n",
        "    loss = EDP(modelo, x, y, t) + contornos(modelo)\n",
        "    loss.backward()\n",
        "    otimizador.step()\n",
        "\n",
        "    if itr % 50 == 0:\n",
        "      print(f\"Iteração {itr}, Custo: {loss.item():.2e}\")\n",
        "\n",
        "  return modelo\n",
        "# Configuração\n",
        "device = torch.device('cuda' if torch.cuda.is_available() else 'cpu')\n",
        "print(f\"Usando dispositivo: {device}\")\n",
        "print(\"Iniciando treinamento\")\n",
        "modelo_final = treino(iter=2000)"
      ],
      "metadata": {
        "colab": {
          "base_uri": "https://localhost:8080/"
        },
        "id": "nK6wi6cEKjSN",
        "outputId": "68a8c20f-158a-4a56-fea8-18feb3d4b9f9"
      },
      "execution_count": null,
      "outputs": [
        {
          "output_type": "stream",
          "name": "stdout",
          "text": [
            "Usando dispositivo: cpu\n",
            "Iniciando treinamento\n",
            "Iteração 0, Custo: 1.67e+01\n",
            "Iteração 50, Custo: 5.16e+00\n",
            "Iteração 100, Custo: 2.57e+00\n",
            "Iteração 150, Custo: 9.49e-01\n"
          ]
        }
      ]
    },
    {
      "cell_type": "code",
      "source": [
        "def plotagem(modelo, tempos=[0, 2, 5, 10]):\n",
        "  fig, axs = plt.subplots(1, len(tempos), figsize=(10, 5), gridspec_kw={'width_ratios': [1]*len(tempos)})\n",
        "\n",
        "  fig.subplots_adjust(right=0.85)\n",
        "  cbar_ax = fig.add_axes([0.88, 0.15, 0.02, 0.7])\n",
        "  vmin, vmax = 0, 1\n",
        "\n",
        "  for i, t in enumerate(tempos):\n",
        "    x = np.linspace(0, 10, 200)\n",
        "    y = np.linspace(0, 0.12, 50)\n",
        "    X, Y = np.meshgrid(x, y)\n",
        "\n",
        "    xy_tensor = torch.FloatTensor(np.stack([X.flatten(), Y.flatten(), np.full_like(X.flatten(), t)], axis=1)).to(device)\n",
        "\n",
        "    with torch.no_grad():\n",
        "      _, _, _, C = model(xy_tensor[:, 0:1],xy_tensor[:, 1:2],xy_tensor[:, 2:3])\n",
        "\n",
        "    cont = axs[i].contourf(X, Y, C.cpu().reshape(X.shape),levels=20, cmap='RdBu',vmin=vmin, vmax=vmax)\n",
        "    axs[i].scatter([2, 2], [0, 0.12], c='green', s=50, marker='o')\n",
        "    axs[i].set_title(f't = {t}s')\n",
        "    axs[i].set_xlabel('x (m)')\n",
        "    if i == 0:\n",
        "      axs[i].set_ylabel('y (m)')\n",
        "\n",
        "\n",
        "  fig.colorbar(cont,cax=cbar_ax,label='Água (0) vs MEG (1)')\n",
        "  plt.suptitle(\"Evolução do Escoamento\")\n",
        "  plt.tight_layout(rect=[0, 0, 0.85, 1])\n",
        "  plt.show()\n",
        "\n",
        "plotagem(modelo_final)"
      ],
      "metadata": {
        "id": "9J6dtAyhKmHd"
      },
      "execution_count": null,
      "outputs": []
    }
  ]
}